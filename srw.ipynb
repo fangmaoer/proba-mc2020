{
 "cells": [
  {
   "cell_type": "markdown",
   "metadata": {},
   "source": [
    "# A simple 2D random walk\n",
    "\n",
    "Some initializations (import [`srw.py`](../edit/srw.py))."
   ]
  },
  {
   "cell_type": "code",
   "execution_count": null,
   "metadata": {},
   "outputs": [],
   "source": [
    "%matplotlib inline\n",
    "import srw\n",
    "from matplotlib import rcParams\n",
    "from matplotlib import pyplot as plt\n",
    "rcParams['figure.figsize'] = (10., 8.)  # Enlarge figure\n",
    "rcParams['animation.html'] = 'html5'  # to render animation in notebook"
   ]
  },
  {
   "cell_type": "markdown",
   "metadata": {},
   "source": [
    "Create and play a matplotlib animation for a $nstep$-step random walk starting at $(x, y) = (0, 0)$."
   ]
  },
  {
   "cell_type": "code",
   "execution_count": null,
   "metadata": {},
   "outputs": [],
   "source": [
    "anim = srw.generate_animation(nstep=100)\n",
    "plt.close(anim._fig)  # Close the initial figure to display only the animation figure\n",
    "anim  # Now play"
   ]
  }
 ],
 "metadata": {
  "kernelspec": {
   "display_name": "Python 3",
   "language": "python",
   "name": "python3"
  },
  "language_info": {
   "codemirror_mode": {
    "name": "ipython",
    "version": 3
   },
   "file_extension": ".py",
   "mimetype": "text/x-python",
   "name": "python",
   "nbconvert_exporter": "python",
   "pygments_lexer": "ipython3",
   "version": "3.7.4"
  },
  "toc": {
   "base_numbering": 1,
   "nav_menu": {},
   "number_sections": false,
   "sideBar": true,
   "skip_h1_title": false,
   "title_cell": "Table of Contents",
   "title_sidebar": "Contents",
   "toc_cell": false,
   "toc_position": {},
   "toc_section_display": true,
   "toc_window_display": false
  }
 },
 "nbformat": 4,
 "nbformat_minor": 2
}
