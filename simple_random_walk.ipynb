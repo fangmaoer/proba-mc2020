{
 "cells": [
  {
   "cell_type": "markdown",
   "metadata": {
    "ein.tags": "worksheet-0",
    "slideshow": {
     "slide_type": "-"
    }
   },
   "source": [
    "# Course of Marielle Simon: Simple random walk"
   ]
  },
  {
   "cell_type": "markdown",
   "metadata": {
    "ein.tags": "worksheet-0",
    "slideshow": {
     "slide_type": "-"
    }
   },
   "source": [
    "First, some python initializations."
   ]
  },
  {
   "cell_type": "code",
   "execution_count": null,
   "metadata": {
    "autoscroll": false,
    "ein.hycell": false,
    "ein.tags": "worksheet-0",
    "slideshow": {
     "slide_type": "-"
    }
   },
   "outputs": [],
   "source": [
    "%matplotlib inline\n",
    "from matplotlib import rcParams\n",
    "from matplotlib import pyplot as plt\n",
    "from ipywidgets import interact\n",
    "import ipywidgets as widgets\n",
    "rcParams['figure.figsize'] = (8., 6.)  # Enlarge figure\n",
    "rcParams['animation.html'] = 'html5'  # to render animation in notebook\n",
    "\n",
    "import srw  # Import simple random walk module from srw.py"
   ]
  },
  {
   "cell_type": "markdown",
   "metadata": {},
   "source": [
    "## Random walk on  $\\mathbb{Z}^2$\n"
   ]
  },
  {
   "cell_type": "markdown",
   "metadata": {
    "ein.tags": "worksheet-0",
    "slideshow": {
     "slide_type": "-"
    }
   },
   "source": [
    "Create and play a matplotlib animation for a $nstep$-step random walk starting at $(x, y) = (0, 0)$."
   ]
  },
  {
   "cell_type": "code",
   "execution_count": null,
   "metadata": {
    "autoscroll": false,
    "ein.hycell": false,
    "ein.tags": "worksheet-0",
    "slideshow": {
     "slide_type": "-"
    }
   },
   "outputs": [],
   "source": [
    "walk = srw.Walk2D(nstep=100)  # Create a 100-step random walk\n",
    "anim = walk.generate_animation()\n",
    "plt.close(anim._fig)  # Close the initial figure to display only the animation figure\n",
    "anim  # Now play"
   ]
  },
  {
   "cell_type": "markdown",
   "metadata": {
    "ein.tags": "worksheet-0",
    "slideshow": {
     "slide_type": "-"
    }
   },
   "source": [
    "Plot entire path for various $nstep$ values."
   ]
  },
  {
   "cell_type": "code",
   "execution_count": null,
   "metadata": {
    "autoscroll": false,
    "ein.hycell": false,
    "ein.tags": "worksheet-0",
    "slideshow": {
     "slide_type": "-"
    }
   },
   "outputs": [],
   "source": [
    "interact(srw.plot_walk, nstep=widgets.IntSlider(min=50, max=1000, step=50, value=50));"
   ]
  },
  {
   "cell_type": "markdown",
   "metadata": {},
   "source": [
    "### Some quantities as a function of the number of steps\n",
    "\n",
    "Compute average **final distance** over 1000 random walks."
   ]
  },
  {
   "cell_type": "code",
   "execution_count": null,
   "metadata": {},
   "outputs": [],
   "source": [
    "srw.FinalDistance(nwalk=1000).plot()"
   ]
  },
  {
   "cell_type": "markdown",
   "metadata": {},
   "source": [
    "Compute average **maximum distance** over 1000 random walks."
   ]
  },
  {
   "cell_type": "code",
   "execution_count": null,
   "metadata": {},
   "outputs": [],
   "source": [
    "srw.MaxDistance(nwalk=1000).plot()"
   ]
  },
  {
   "cell_type": "markdown",
   "metadata": {},
   "source": [
    "Compute the **number of times** the walk goes back to starting point (average over 1000 random walks)."
   ]
  },
  {
   "cell_type": "code",
   "execution_count": null,
   "metadata": {},
   "outputs": [],
   "source": [
    "srw.BackToStart(nwalk=10000, nstepmax=10000).plot()"
   ]
  },
  {
   "cell_type": "markdown",
   "metadata": {
    "ein.tags": "worksheet-0",
    "slideshow": {
     "slide_type": "-"
    }
   },
   "source": [
    "## Random walk on $\\mathbb{Z}$"
   ]
  },
  {
   "cell_type": "markdown",
   "metadata": {
    "ein.tags": "worksheet-0",
    "slideshow": {
     "slide_type": "-"
    }
   },
   "source": [
    "Consider the random walk on $\\mathbb{Z}$ with $0 < p < 1$, denoted by $(S_n)$. The chain is supposed to start from state 0.\n",
    "\n",
    "1\\. Implement a function `random_walk_z` simulating the behaviour of the random walk for $n_{\\max}$ steps, and represent it on a graph. Ensure that the function `random_walk_z`also returns: #\n",
    "   - the number of times the chain is returned to the initial state;\n",
    "   - the largest state reached by the chain."
   ]
  },
  {
   "cell_type": "code",
   "execution_count": null,
   "metadata": {
    "autoscroll": false,
    "ein.hycell": false,
    "ein.tags": "worksheet-0",
    "slideshow": {
     "slide_type": "-"
    }
   },
   "outputs": [],
   "source": [
    "import numpy as np\n",
    "from sklearn.utils import check_random_state\n",
    "from scipy.special import binom\n",
    "import multiprocessing as mp\n",
    "mp.set_start_method('spawn', True) # see https://github.com/microsoft/ptvsd/issues/1443\n",
    "from numba import jit\n",
    "\n",
    "@jit(nopython=True)\n",
    "def count_first(item: int, vec: np.ndarray):\n",
    "    \"\"\"\n",
    "    Find the index of the first element in the array `vec` equal to the element `item`. \n",
    "    \"\"\" \n",
    "    c = 0\n",
    "    for i in range(len(vec)):\n",
    "        if item == vec[i]:\n",
    "            c += 1\n",
    "    return c\n",
    "\n",
    "\n",
    "def random_walk_z(p, n_max, random_state):\n",
    "    \"\"\" Simulate a simple 1D random walk in Z.\n",
    "    \n",
    "    :returns:\n",
    "        - Ti (:py:class:`int`) - number of returns to the initial state\n",
    "        - state_max (:py:class:`int`) - farthest state reached by the chain (w.r.t the initial state)\n",
    "    \"\"\"\n",
    "\n",
    "    rng = check_random_state(random_state)\n",
    "    Z = 2*rng.binomial(1, p, size=(n_max)) - 1\n",
    "    X = np.empty(shape=(n_max+1), dtype=float)\n",
    "    X[0] = 0\n",
    "    X[1:] = np.cumsum(Z)\n",
    "\n",
    "    Ti = count_first(0, X[1:])\n",
    "    id = np.argmax(np.abs(X))\n",
    "    state_max = X[id]\n",
    "    \n",
    "    t = np.arange(0, n_max+1, 1)\n",
    "    plt.plot(t, X)\n",
    "    plt.show()\n",
    "    return Ti, state_max"
   ]
  },
  {
   "cell_type": "code",
   "execution_count": null,
   "metadata": {},
   "outputs": [],
   "source": [
    "random_walk_z(0.5, 1000, 500)"
   ]
  },
  {
   "cell_type": "markdown",
   "metadata": {
    "ein.tags": "worksheet-0",
    "slideshow": {
     "slide_type": "-"
    }
   },
   "source": [
    "2\\. Assume now that two players $A$ and $B$ play heads or tails, where heads occur with probability $p$. Player $A$ bets $1$ euro on heads at each toss, and $B$ bets $1$ euro on tails. Assume that: \n",
    "- the initial fortune of $A$ is $a \\in \\mathbb{N}$;\n",
    "- the initial fortune of $B$ is $b\\in\\mathbb{N}$;\n",
    "- the gain ends when a player is ruined.\n",
    "\n",
    "Implement a function which returns the empirical frequency of winning for $A$, and compare it with the theoretical probability computed in the lecture.\n"
   ]
  },
  {
   "cell_type": "code",
   "execution_count": null,
   "metadata": {
    "autoscroll": false,
    "ein.hycell": false,
    "ein.tags": "worksheet-0",
    "slideshow": {
     "slide_type": "-"
    }
   },
   "outputs": [],
   "source": [
    "# Exercise"
   ]
  }
 ],
 "metadata": {
  "kernelspec": {
   "display_name": "Python 3",
   "language": "python",
   "name": "python3"
  },
  "language_info": {
   "codemirror_mode": {
    "name": "ipython",
    "version": 3
   },
   "file_extension": ".py",
   "mimetype": "text/x-python",
   "name": "python",
   "nbconvert_exporter": "python",
   "pygments_lexer": "ipython3",
   "version": "3.7.4"
  },
  "name": "mc2020.ipynb",
  "toc": {
   "base_numbering": 1,
   "nav_menu": {
    "height": "120px",
    "width": "252px"
   },
   "number_sections": false,
   "sideBar": true,
   "skip_h1_title": false,
   "title_cell": "Table of Contents",
   "title_sidebar": "Contents",
   "toc_cell": false,
   "toc_position": null,
   "toc_section_display": true,
   "toc_window_display": false
  }
 },
 "nbformat": 4,
 "nbformat_minor": 4
}
