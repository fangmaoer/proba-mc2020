{
 "cells": [
  {
   "cell_type": "markdown",
   "metadata": {},
   "source": [
    "# Course of Dario Trevisan: Optimal transport\n"
   ]
  },
  {
   "cell_type": "markdown",
   "metadata": {
    "ein.tags": "worksheet-0",
    "slideshow": {
     "slide_type": "-"
    }
   },
   "source": [
    "We solve the earth movers problem using the [POT](https://pot.readthedocs.io/en/stable/index.html) library.\n",
    "\n",
    "First, some python initializations."
   ]
  },
  {
   "cell_type": "code",
   "execution_count": null,
   "metadata": {
    "autoscroll": false,
    "ein.hycell": false,
    "ein.tags": "worksheet-0",
    "slideshow": {
     "slide_type": "-"
    }
   },
   "outputs": [],
   "source": [
    "%matplotlib inline\n",
    "from matplotlib import rcParams\n",
    "from matplotlib import pyplot as plt\n",
    "from ipywidgets import interact, fixed, FloatSlider, RadioButtons\n",
    "rcParams['figure.figsize'] = (8., 6.)  # Enlarge figure\n",
    "rcParams['animation.html'] = 'html5'  # to render animation in notebook\n",
    "# A slider for p\n",
    "slider = FloatSlider(min=-1., max=2., step=0.1, value=1.1, continuous_update=False)\n",
    "\n",
    "from earth_movers import EarthMovers1D, EarthMovers2D"
   ]
  },
  {
   "cell_type": "markdown",
   "metadata": {},
   "source": [
    "## 1D case\n",
    "\n",
    "\n",
    "Solve the earth movers problem for 50-position samples."
   ]
  },
  {
   "cell_type": "code",
   "execution_count": null,
   "metadata": {
    "scrolled": false
   },
   "outputs": [],
   "source": [
    "em1D = EarthMovers1D(50)\n",
    "interact(em1D.plot_ot, p=slider, plot_points=fixed(True));"
   ]
  },
  {
   "cell_type": "markdown",
   "metadata": {},
   "source": [
    "## 2D case\n",
    "\n",
    "Solve the earth movers problem for 50-position samples."
   ]
  },
  {
   "cell_type": "code",
   "execution_count": null,
   "metadata": {},
   "outputs": [],
   "source": [
    "em2D = EarthMovers2D(100)\n",
    "interact(em2D.plot_ot, p=slider, plot_points=fixed(True));"
   ]
  },
  {
   "cell_type": "markdown",
   "metadata": {},
   "source": [
    "Solve the earth movers problem for 1000-position samples."
   ]
  },
  {
   "cell_type": "code",
   "execution_count": null,
   "metadata": {},
   "outputs": [],
   "source": [
    "em2D_large = EarthMovers2D(1000)\n",
    "interact(em2D_large.plot_ot, p=slider, plot_points=fixed(False));"
   ]
  },
  {
   "cell_type": "markdown",
   "metadata": {},
   "source": [
    "## Histogram of distance"
   ]
  },
  {
   "cell_type": "markdown",
   "metadata": {},
   "source": [
    "Plot the histogram of distance for 2000-position samples on the 1D and 2D problems."
   ]
  },
  {
   "cell_type": "code",
   "execution_count": null,
   "metadata": {
    "scrolled": false
   },
   "outputs": [],
   "source": [
    "def plot_histogram(dimension=2, p=1.1):\n",
    "    nsim = 2000\n",
    "    em = EarthMovers1D(nsim) if dimension == 1 else EarthMovers2D(nsim)\n",
    "    return em.plot_distance_histogram(p, bins=20)\n",
    "\n",
    "interact(plot_histogram, dimension=RadioButtons(options=[1, 2], value=2), p=slider);"
   ]
  },
  {
   "cell_type": "markdown",
   "metadata": {},
   "source": [
    "## Todo\n",
    "\n",
    "- Uniform random blue and red points on a square #\n",
    "- Its optimal mathching, with p=1, n=500 #\n",
    "- Histogram of matching length in d=1,2,3 #\n",
    "- one dimensional matching for p=1.1 and p=0.9, comparison\n",
    "- The scaling algorithm for local optimal matching\n",
    "\n",
    "PoT: <https://pot.readthedocs.io/en/stable/auto_examples/plot_OT_2D_samples.html>"
   ]
  }
 ],
 "metadata": {
  "kernelspec": {
   "display_name": "Python 3",
   "language": "python",
   "name": "python3"
  },
  "language_info": {
   "codemirror_mode": {
    "name": "ipython",
    "version": 3
   },
   "file_extension": ".py",
   "mimetype": "text/x-python",
   "name": "python",
   "nbconvert_exporter": "python",
   "pygments_lexer": "ipython3",
   "version": "3.7.4"
  },
  "name": "mc2020.ipynb",
  "toc": {
   "base_numbering": 1,
   "nav_menu": {
    "height": "120px",
    "width": "252px"
   },
   "number_sections": false,
   "sideBar": true,
   "skip_h1_title": false,
   "title_cell": "Table of Contents",
   "title_sidebar": "Contents",
   "toc_cell": false,
   "toc_position": null,
   "toc_section_display": true,
   "toc_window_display": false
  }
 },
 "nbformat": 4,
 "nbformat_minor": 4
}
