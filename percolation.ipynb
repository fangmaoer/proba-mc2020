{
 "cells": [
  {
   "cell_type": "markdown",
   "metadata": {},
   "source": [
    "# Course of Sébastien Martineau: percolation"
   ]
  },
  {
   "cell_type": "markdown",
   "metadata": {
    "ein.tags": "worksheet-0",
    "slideshow": {
     "slide_type": "-"
    }
   },
   "source": [
    "First, some python initializations."
   ]
  },
  {
   "cell_type": "code",
   "execution_count": null,
   "metadata": {
    "autoscroll": false,
    "ein.hycell": false,
    "ein.tags": "worksheet-0",
    "slideshow": {
     "slide_type": "-"
    }
   },
   "outputs": [],
   "source": [
    "%matplotlib inline\n",
    "from matplotlib import rcParams\n",
    "from matplotlib import pyplot as plt\n",
    "from ipywidgets import interact\n",
    "import ipywidgets as widgets\n",
    "rcParams['figure.figsize'] = (8., 6.)  # Enlarge figure\n",
    "rcParams['animation.html'] = 'html5'  # to render animation in notebook\n",
    "\n",
    "from percolation import PercolationRect, PercolationHex, percolation_vs_p, PercolationRectDual"
   ]
  },
  {
   "cell_type": "markdown",
   "metadata": {
    "slideshow": {
     "slide_type": "subslide"
    }
   },
   "source": [
    "## Rectangular lattice"
   ]
  },
  {
   "cell_type": "code",
   "execution_count": null,
   "metadata": {},
   "outputs": [],
   "source": [
    "percorect = PercolationRect(20, 10)\n",
    "interact(percorect.plot, p=widgets.FloatSlider(min=0., max=1., step=0.1, value=0.5));"
   ]
  },
  {
   "cell_type": "markdown",
   "metadata": {
    "slideshow": {
     "slide_type": "subslide"
    }
   },
   "source": [
    "## Hexagonal lattice"
   ]
  },
  {
   "cell_type": "code",
   "execution_count": null,
   "metadata": {},
   "outputs": [],
   "source": [
    "percohex = PercolationHex(5, 5)\n",
    "percohex.compute_clusters(0.5)\n",
    "percohex.plot_clusters(add_cluster_id=True)"
   ]
  },
  {
   "cell_type": "code",
   "execution_count": null,
   "metadata": {
    "slideshow": {
     "slide_type": "subslide"
    }
   },
   "outputs": [],
   "source": [
    "percohex15 = PercolationHex(30, 30)\n",
    "interact(percohex15.plot, p=widgets.FloatSlider(min=0., max=1., step=0.1, value=0.5));"
   ]
  },
  {
   "cell_type": "markdown",
   "metadata": {
    "slideshow": {
     "slide_type": "subslide"
    }
   },
   "source": [
    "## Probability of crossing as a function of $p$\n",
    "\n",
    "Based on 300 simulations on a $25 \\times 25$ lattice."
   ]
  },
  {
   "cell_type": "code",
   "execution_count": null,
   "metadata": {},
   "outputs": [],
   "source": [
    "percolation_vs_p(25, 25, nsim=300)"
   ]
  },
  {
   "cell_type": "markdown",
   "metadata": {},
   "source": [
    "## Initial and dual graph for a rectangular percolation\n"
   ]
  },
  {
   "cell_type": "code",
   "execution_count": null,
   "metadata": {},
   "outputs": [],
   "source": [
    "perco = PercolationRectDual(5)\n",
    "interact(perco.plot_graph, p=widgets.FloatSlider(min=0., max=1., step=0.1, value=0.5),\n",
    "        graph_type=widgets.RadioButtons(options=['initial', 'dual', 'both']));"
   ]
  },
  {
   "cell_type": "markdown",
   "metadata": {
    "slideshow": {
     "slide_type": "subslide"
    }
   },
   "source": [
    "## Todo\n",
    "\n",
    "- Standard coupling on honeycomb lattice, \n",
    "- Duality of honycomb lattice\n",
    "- Standard coupling on square lattice and its dual #\n",
    "- Monte Carlo for crossing probabilities on square lattice, threshold phenomena #\n",
    "- Monte Carlo for crossing probabilities on honeycomb lattice\n",
    "- Percolation on 4 regular trees\n",
    "- Percolation on free group with 2 generators #\n",
    "- Percolation on the dual of seven triangular tilling\n",
    "\n",
    "hex cells:\n",
    "<https://stackoverflow.com/questions/46525981/how-to-plot-x-y-z-coordinates-in-the-shape-of-a-hexagonal-grid>\n",
    "\n",
    "graphs: networkx"
   ]
  }
 ],
 "metadata": {
  "celltoolbar": "Format de la Cellule Texte Brut",
  "kernelspec": {
   "display_name": "Python 3",
   "language": "python",
   "name": "python3"
  },
  "language_info": {
   "codemirror_mode": {
    "name": "ipython",
    "version": 3
   },
   "file_extension": ".py",
   "mimetype": "text/x-python",
   "name": "python",
   "nbconvert_exporter": "python",
   "pygments_lexer": "ipython3",
   "version": "3.7.4"
  },
  "name": "mc2020.ipynb",
  "toc": {
   "base_numbering": 1,
   "nav_menu": {
    "height": "120px",
    "width": "252px"
   },
   "number_sections": false,
   "sideBar": true,
   "skip_h1_title": false,
   "title_cell": "Table of Contents",
   "title_sidebar": "Contents",
   "toc_cell": false,
   "toc_position": null,
   "toc_section_display": true,
   "toc_window_display": false
  }
 },
 "nbformat": 4,
 "nbformat_minor": 4
}
